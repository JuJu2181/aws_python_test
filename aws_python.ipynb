{
 "cells": [
  {
   "attachments": {},
   "cell_type": "markdown",
   "metadata": {},
   "source": [
    "## A Beginner’s Guide to Data Engineering: Harnessing the Power of Python to Access AWS Services\n",
    "- This notebook illustrates how you can access AWS services programmatically using Python.\n",
    "- This notebook contains code for the blog [A Beginner’s Guide to Data Engineering: Harnessing the Power of Python to Access AWS Services]()"
   ]
  },
  {
   "attachments": {},
   "cell_type": "markdown",
   "metadata": {},
   "source": [
    "### 1. Setup AWS Credentials"
   ]
  },
  {
   "cell_type": "code",
   "execution_count": 2,
   "metadata": {},
   "outputs": [],
   "source": [
    "#  To parse the cfg file to access security credentials\n",
    "import configparser"
   ]
  },
  {
   "cell_type": "code",
   "execution_count": 3,
   "metadata": {},
   "outputs": [
    {
     "name": "stdout",
     "output_type": "stream",
     "text": [
      "Configuration loaded successfully !\n"
     ]
    }
   ],
   "source": [
    "# Initialize the configparser object\n",
    "config = configparser.ConfigParser()\n",
    "# read the configuration from local file\n",
    "config.read_file(open('credentials.cfg'))\n",
    "# Load the parameters from the config file into variables\n",
    "ACCESS_KEY             = config.get('AWS','ACCESS_KEY')\n",
    "SECRET_ACCESS_KEY      = config.get('AWS','SECRET_ACCESS_KEY')\n",
    "AWS_REGION             = config.get(\"AWS\",\"AWS_REGION\")       \n",
    "print(\"Configuration loaded successfully !\")     "
   ]
  },
  {
   "attachments": {},
   "cell_type": "markdown",
   "metadata": {},
   "source": [
    "### 2. Installing Boto3"
   ]
  },
  {
   "cell_type": "code",
   "execution_count": null,
   "metadata": {},
   "outputs": [],
   "source": [
    "pip install boto3 "
   ]
  },
  {
   "attachments": {},
   "cell_type": "markdown",
   "metadata": {},
   "source": [
    "### 3. Configuring Boto3 Client to access S3 service"
   ]
  },
  {
   "cell_type": "code",
   "execution_count": 4,
   "metadata": {},
   "outputs": [],
   "source": [
    "import boto3 \n",
    "\n",
    "# configure S3 client\n",
    "s3_client = boto3.client('s3',\n",
    "                region_name=AWS_REGION,\n",
    "                aws_access_key_id=ACCESS_KEY,\n",
    "                aws_secret_access_key=SECRET_ACCESS_KEY)"
   ]
  },
  {
   "attachments": {},
   "cell_type": "markdown",
   "metadata": {},
   "source": [
    "### 4. Using Boto3 Client to access S3 service"
   ]
  },
  {
   "attachments": {},
   "cell_type": "markdown",
   "metadata": {},
   "source": [
    "#### a. Checking list of available S3 buckets"
   ]
  },
  {
   "cell_type": "code",
   "execution_count": 9,
   "metadata": {},
   "outputs": [
    {
     "name": "stdout",
     "output_type": "stream",
     "text": [
      "Bucket list fetched successfully.\n",
      "There are currently 6 S3 buckets in your account.\n",
      "It includes:['anish-shilpakar-athena-query-results', 'anish-shilpakar-ccp-2022-demo', 'anish-shilpakar-replication-demo', 'anish-shilpakar-server-access-logs', 'coderush-anish-etl-source-data', 'elasticbeanstalk-ap-south-1-977481651193']\n"
     ]
    }
   ],
   "source": [
    "try:\n",
    "    # get the list of all available buckets\n",
    "    response = s3_client.list_buckets()\n",
    "    # print(response)\n",
    "    buckets_list = []\n",
    "    for res in response['Buckets']:\n",
    "        buckets_list.append(res['Name'])\n",
    "    print(f\"Bucket list fetched successfully.\\nThere are currently {len(buckets_list)} S3 buckets in your account.\\nIt includes:{buckets_list}\")\n",
    "except Exception as e:\n",
    "    print(f\"Failed to fetch the list of all available buckets\\nFollowing error occured:{e}\")"
   ]
  },
  {
   "cell_type": "code",
   "execution_count": 11,
   "metadata": {},
   "outputs": [
    {
     "name": "stdout",
     "output_type": "stream",
     "text": [
      "Creating new S3 bucket: aws-python-ace-bucket . . .\n",
      "S3 bucket: aws-python-ace-bucket created successfully !\n"
     ]
    }
   ],
   "source": [
    "# Name of data bucket : Should be globally unique\n",
    "SOURCE_DATA_BUCKET=\"aws-python-ace-bucket\"\n",
    "# check if S3 bucket already exists or not\n",
    "if SOURCE_DATA_BUCKET not in buckets_list:\n",
    "    print(f\"Creating new S3 bucket: {SOURCE_DATA_BUCKET} . . .\")\n",
    "    try:\n",
    "        response = s3_client.create_bucket(\n",
    "            Bucket=SOURCE_DATA_BUCKET,\n",
    "            CreateBucketConfiguration={\n",
    "                    'LocationConstraint': AWS_REGION\n",
    "                    }\n",
    "        )\n",
    "        print(f\"S3 bucket: {SOURCE_DATA_BUCKET} created successfully !\")\n",
    "    except Exception as e:\n",
    "        print(f\"Failed to create s3 bucket: {SOURCE_DATA_BUCKET}. Following error encountered:\\n{e}\")\n",
    "else:\n",
    "    print(f\"{SOURCE_DATA_BUCKET} already exists!\")"
   ]
  },
  {
   "cell_type": "code",
   "execution_count": 12,
   "metadata": {},
   "outputs": [
    {
     "name": "stdout",
     "output_type": "stream",
     "text": [
      "Started uploading the files . . .\n",
      "Successfully uploaded the data test_data.csv to aws-python-ace-bucket\n"
     ]
    }
   ],
   "source": [
    "FILE_TO_UPLOAD=\"test_data.csv\"\n",
    "\n",
    "# Uploading the dataset files from local directory to s3 bucket\n",
    "try:\n",
    "    print(\"Started uploading the files . . .\")\n",
    "    # here in upload_file the first parameter specifies the path of local file to upload, 2nd parameter specifies the s3 bucket where data will be uploaded to and 3rd parameter specifies the name of key to upload to.\n",
    "    s3_client.upload_file(FILE_TO_UPLOAD,SOURCE_DATA_BUCKET,FILE_TO_UPLOAD)\n",
    "    print(f'Successfully uploaded the data {FILE_TO_UPLOAD} to {SOURCE_DATA_BUCKET}')\n",
    "except Exception as e: \n",
    "    print(f\"Failed to upload datasets to s3 bucket.\\nFollowing error occured:\\n{e}\")"
   ]
  },
  {
   "cell_type": "code",
   "execution_count": null,
   "metadata": {},
   "outputs": [],
   "source": []
  }
 ],
 "metadata": {
  "kernelspec": {
   "display_name": ".final_project_venv",
   "language": "python",
   "name": "python3"
  },
  "language_info": {
   "codemirror_mode": {
    "name": "ipython",
    "version": 3
   },
   "file_extension": ".py",
   "mimetype": "text/x-python",
   "name": "python",
   "nbconvert_exporter": "python",
   "pygments_lexer": "ipython3",
   "version": "3.8.5"
  },
  "orig_nbformat": 4
 },
 "nbformat": 4,
 "nbformat_minor": 2
}
